{
  "nbformat": 4,
  "nbformat_minor": 0,
  "metadata": {
    "colab": {
      "provenance": [],
      "collapsed_sections": [
        "BhH2vgX9EjGr",
        "VfCC591jGiD4",
        "7AN1z2sKpx6M",
        "9PIHJqyupx6M",
        "_-qAgymDpx6N",
        "Z-hykwinpx6N",
        "h_CCil-SKHpo",
        "cBFFvTBNJzUa",
        "gCX9965dhzqZ",
        "gIfDvo9L0UH2"
      ]
    },
    "kernelspec": {
      "name": "python3",
      "display_name": "Python 3"
    },
    "language_info": {
      "name": "python"
    }
  },
  "cells": [
    {
      "cell_type": "markdown",
      "source": [
        "# **Project Name**    - Netflix Movies And TV Show Clusteing.\n",
        "\n",
        "\n"
      ],
      "metadata": {
        "id": "vncDsAP0Gaoa"
      }
    },
    {
      "cell_type": "markdown",
      "source": [
        "##### **Project Type**    - Unsupervised\n",
        "##### **Contribution**    - Individual\n",
        "##### **Team Member  -** Ayush Dattatray Bhagat\n",
        "\n"
      ],
      "metadata": {
        "id": "beRrZCGUAJYm"
      }
    },
    {
      "cell_type": "markdown",
      "source": [
        "# **Project Summary -**"
      ],
      "metadata": {
        "id": "FJNUwmbgGyua"
      }
    },
    {
      "cell_type": "markdown",
      "source": [
        "![netflix.png](data:image/png;base64,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)\n",
        "\n",
        "Netflix, the world’s largest on-demand internet streaming media and online DVD movie rental service provider.it Founded August 29, 1997, in Los Gatos, California by Marc and Reed. It has 69 million members in over 60 countries enjoying more than 100 million hours of TV shows and movies per day Netflix is the world’s leading internet entertainment service with enjoying TV series, documentaries, and feature films across a wide variety of genres and languages. I was curious to analyze the content released in Netflix platform which led me to create these simple, interactive, and exciting visualizations and find similar groups of people.\n",
        "\n",
        "This dataset consists of tv shows and movies available on Netflix as of 2019. The dataset is collected from Flixable which is a third-party Netflix search engine. In 2018, they released an interesting report which shows that the number of TV shows on Netflix has nearly tripled since 2010. The streaming service’s number of movies has decreased by more than 2,000 titles since 2010, while its number of TV shows has nearly tripled. It will be interesting to explore what all other insights can be obtained from the same dataset.\n",
        "\n",
        "In this project, we worked on a text clustering problem where we had to classify/group the Netflix movie/shows into certain clusters such that the shows within a cluster are similar to each other and the shows in different clusters are dissimilar to each other.\n",
        "\n",
        "The dataset contained about 7787 records, and 12 attributes.\n",
        "\n",
        "In the initial phase, we have focused more on the data cleaning and analyzed data in various categories and then we did exploratory data analysis (EDA).\n",
        "\n",
        "We Created cluster using following attributes like director, cast, country, genre, rating and description. These attributes were tokenized, preprocessed, and then vectorized using TFIDF vectorizer.\n",
        "\n",
        "We used Principal Component Analysis (PCA) to handle the curse of dimensionality.\n",
        "\n",
        "We built Two types of clusters using the K-Means Clustering and Agglomerative Hierarchical clustering algorithm and find out optimal number of clusters using diffrent technique such as elbow method, silhoutte score and dendogram etc.\n",
        "\n",
        "A content based recommender system was built using the similarity matrix obtained after using cosine similarity. This recommender system will make 10 recommendations to the user based on the type of show they watched."
      ],
      "metadata": {
        "id": "F6v_1wHtG2nS"
      }
    },
    {
      "cell_type": "markdown",
      "source": [
        "# **GitHub Link -**"
      ],
      "metadata": {
        "id": "w6K7xa23Elo4"
      }
    },
    {
      "cell_type": "markdown",
      "source": [
        "https://github.com/Ayushx29/Netflix-Movie-And-TV-Show-Clustering"
      ],
      "metadata": {
        "id": "h1o69JH3Eqqn"
      }
    },
    {
      "cell_type": "markdown",
      "source": [
        "# **Problem Statement**\n"
      ],
      "metadata": {
        "id": "yQaldy8SH6Dl"
      }
    },
    {
      "cell_type": "markdown",
      "source": [
        "This dataset consists of tv shows and movies available on Netflix as of 2019.The dataset is collected from Flixable which is a third-party Netflix search engine.\n",
        "\n",
        " In 2018, they released an interesting report which shows that the number of TV shows on Netflix has nearly tripled since 2010.\n",
        "  The streaming service’s number of movies has decreased by more than 2,000 titles since 2010, while its number of TV shows has nearly tripled. It will be interesting to explore what all other insights can be obtained from the same dataset.\n",
        "\n",
        "Integrating this dataset with other external datasets such as IMDB ratings, rotten tomatoes can also provide many interesting findings.\n",
        "\n",
        "# In This Poject You Are Required To Do:\n",
        "\n",
        "\n",
        "*   Exploratory Data Analysis\n",
        "\n",
        "*  Understanding what type content is available in different countries\n",
        "\n",
        "* If Netflix has been increasingly focusing on TV rather than movies in recent\n",
        "  years.\n",
        "* Clustering similar content by matching text-based features\n",
        "\n",
        "\n"
      ],
      "metadata": {
        "id": "DpeJGUA3kjGy"
      }
    },
    {
      "cell_type": "markdown",
      "source": [
        "# **General Guidelines** : -  "
      ],
      "metadata": {
        "id": "mDgbUHAGgjLW"
      }
    },
    {
      "cell_type": "markdown",
      "source": [
        "1.   Well-structured, formatted, and commented code is required.\n",
        "2.   Exception Handling, Production Grade Code & Deployment Ready Code will be a plus. Those students will be awarded some additional credits.\n",
        "     \n",
        "     The additional credits will have advantages over other students during Star Student selection.\n",
        "       \n",
        "             [ Note: - Deployment Ready Code is defined as, the whole .ipynb notebook should be executable in one go\n",
        "                       without a single error logged. ]\n",
        "\n",
        "3.   Each and every logic should have proper comments.\n",
        "4. You may add as many number of charts you want. Make Sure for each and every chart the following format should be answered.\n",
        "        \n",
        "\n",
        "```\n",
        "# Chart visualization code\n",
        "```\n",
        "            \n",
        "\n",
        "*   Why did you pick the specific chart?\n",
        "*   What is/are the insight(s) found from the chart?\n",
        "* Will the gained insights help creating a positive business impact?\n",
        "Are there any insights that lead to negative growth? Justify with specific reason.\n",
        "\n",
        "5. You have to create at least 15 logical & meaningful charts having important insights.\n",
        "\n",
        "\n",
        "[ Hints : - Do the Vizualization in  a structured way while following \"UBM\" Rule.\n",
        "\n",
        "U - Univariate Analysis,\n",
        "\n",
        "B - Bivariate Analysis (Numerical - Categorical, Numerical - Numerical, Categorical - Categorical)\n",
        "\n",
        "M - Multivariate Analysis\n",
        " ]\n",
        "\n",
        "\n",
        "\n",
        "\n",
        "\n",
        "6. You may add more ml algorithms for model creation. Make sure for each and every algorithm, the following format should be answered.\n",
        "\n",
        "\n",
        "*   Explain the ML Model used and it's performance using Evaluation metric Score Chart.\n",
        "\n",
        "\n",
        "*   Cross- Validation & Hyperparameter Tuning\n",
        "\n",
        "*   Have you seen any improvement? Note down the improvement with updates Evaluation metric Score Chart.\n",
        "\n",
        "*   Explain each evaluation metric's indication towards business and the business impact pf the ML model used.\n",
        "\n",
        "\n",
        "\n",
        "\n",
        "\n",
        "\n",
        "\n",
        "\n",
        "\n",
        "\n",
        "\n",
        "\n",
        "\n",
        "\n",
        "\n",
        "\n",
        "\n",
        "\n"
      ],
      "metadata": {
        "id": "ZrxVaUj-hHfC"
      }
    },
    {
      "cell_type": "markdown",
      "source": [
        "# ***Let's Begin !***"
      ],
      "metadata": {
        "id": "O_i_v8NEhb9l"
      }
    },
    {
      "cell_type": "markdown",
      "source": [
        "## ***1. Know Your Data***"
      ],
      "metadata": {
        "id": "HhfV-JJviCcP"
      }
    },
    {
      "cell_type": "markdown",
      "source": [
        "### Import Libraries"
      ],
      "metadata": {
        "id": "Y3lxredqlCYt"
      }
    },
    {
      "cell_type": "code",
      "source": [
        "# Import Libraries\n",
        "import numpy as np\n",
        "from numpy import math\n",
        "import pandas as pd\n",
        "import matplotlib.pyplot as plt\n",
        "import seaborn as sns\n",
        "from datetime import datetime\n",
        "import matplotlib.ticker as mtick\n",
        "from matplotlib.pyplot import figure\n",
        "import plotly.graph_objects as go\n",
        "import plotly.offline as py\n",
        "import plotly.express as px\n",
        "\n",
        "from sklearn.cluster import KMeans\n",
        "from sklearn.metrics import silhouette_score\n",
        "from sklearn.cluster import AgglomerativeClustering\n",
        "import scipy.cluster.hierarchy as shc\n",
        "\n",
        "from sklearn.feature_extraction.text import CountVectorizer\n",
        "from sklearn.metrics.pairwise import cosine_similarity\n",
        "\n",
        "%matplotlib inline\n",
        "sns.set()\n",
        "\n",
        "import warnings\n",
        "warnings.filterwarnings('ignore')"
      ],
      "metadata": {
        "id": "M8Vqi-pPk-HR"
      },
      "execution_count": null,
      "outputs": []
    },
    {
      "cell_type": "markdown",
      "source": [
        "### Dataset Loading"
      ],
      "metadata": {
        "id": "3RnN4peoiCZX"
      }
    },
    {
      "cell_type": "code",
      "source": [
        "# Load Dataset\n",
        "from google.colab import drive\n",
        "drive.mount('/content/drive')"
      ],
      "metadata": {
        "id": "4CkvbW_SlZ_R"
      },
      "execution_count": null,
      "outputs": []
    },
    {
      "cell_type": "code",
      "source": [
        "filepath = \"/content/drive/MyDrive/NETFLIX MOVIES AND TV SHOWS CLUSTERING.csv\""
      ],
      "metadata": {
        "id": "ExR4ybwUc03X"
      },
      "execution_count": null,
      "outputs": []
    },
    {
      "cell_type": "code",
      "source": [
        "df = pd.read_csv(filepath)"
      ],
      "metadata": {
        "id": "mNz1qsC4c-Bn"
      },
      "execution_count": null,
      "outputs": []
    },
    {
      "cell_type": "markdown",
      "source": [
        "### Dataset First View"
      ],
      "metadata": {
        "id": "x71ZqKXriCWQ"
      }
    },
    {
      "cell_type": "code",
      "source": [
        "# Dataset First Look\n",
        "df.head(10)"
      ],
      "metadata": {
        "id": "LWNFOSvLl09H"
      },
      "execution_count": null,
      "outputs": []
    },
    {
      "cell_type": "markdown",
      "source": [
        "### Dataset Rows & Columns count"
      ],
      "metadata": {
        "id": "7hBIi_osiCS2"
      }
    },
    {
      "cell_type": "code",
      "source": [
        "# Dataset Rows & Columns count\n",
        "df.shape"
      ],
      "metadata": {
        "id": "Kllu7SJgmLij"
      },
      "execution_count": null,
      "outputs": []
    },
    {
      "cell_type": "code",
      "source": [
        "df.columns"
      ],
      "metadata": {
        "id": "wIaN84GRdYg_"
      },
      "execution_count": null,
      "outputs": []
    },
    {
      "cell_type": "markdown",
      "source": [
        "### Dataset Information"
      ],
      "metadata": {
        "id": "JlHwYmJAmNHm"
      }
    },
    {
      "cell_type": "code",
      "source": [
        "# Dataset Info\n",
        "df.info()"
      ],
      "metadata": {
        "id": "e9hRXRi6meOf"
      },
      "execution_count": null,
      "outputs": []
    },
    {
      "cell_type": "markdown",
      "source": [
        "#### Duplicate Values"
      ],
      "metadata": {
        "id": "35m5QtbWiB9F"
      }
    },
    {
      "cell_type": "code",
      "source": [
        "# Dataset Duplicate Value Count\n",
        "df.duplicated().sum()"
      ],
      "metadata": {
        "id": "1sLdpKYkmox0"
      },
      "execution_count": null,
      "outputs": []
    },
    {
      "cell_type": "markdown",
      "source": [
        "#### Missing Values/Null Values"
      ],
      "metadata": {
        "id": "PoPl-ycgm1ru"
      }
    },
    {
      "cell_type": "code",
      "source": [
        "# Missing Values/Null Values Count\n",
        "df.isnull().sum()"
      ],
      "metadata": {
        "id": "GgHWkxvamxVg"
      },
      "execution_count": null,
      "outputs": []
    },
    {
      "cell_type": "code",
      "source": [
        "df.isnull().sum().sum()"
      ],
      "metadata": {
        "id": "pxJ4FFEBeZJm"
      },
      "execution_count": null,
      "outputs": []
    },
    {
      "cell_type": "code",
      "source": [
        "# Visualizing the missing values\n",
        "plt.figure(figsize=(5,4))\n",
        "sns.heatmap(df.isnull(),cbar=True, yticklabels=False,cmap='Reds')\n",
        "plt.xlabel(\"column_name\", size=14)\n",
        "plt.title(\"missing values in column\",weight=\"bold\",size=17)\n",
        "plt.show()"
      ],
      "metadata": {
        "id": "3q5wnI3om9sJ"
      },
      "execution_count": null,
      "outputs": []
    },
    {
      "cell_type": "code",
      "source": [
        "df[['director','cast','country']] = df[['director','cast','country']].fillna('Unknown')\n",
        "df['rating'] = df['rating'].fillna(df['rating'].mode()[0])\n",
        "df.dropna(axis=0, inplace = True)"
      ],
      "metadata": {
        "id": "HndBQWzfhNlP"
      },
      "execution_count": null,
      "outputs": []
    },
    {
      "cell_type": "code",
      "source": [
        "df.shape"
      ],
      "metadata": {
        "id": "I-ASmnw3h0kp"
      },
      "execution_count": null,
      "outputs": []
    },
    {
      "cell_type": "code",
      "source": [
        "df.isnull().sum()"
      ],
      "metadata": {
        "id": "HZHQ8H9xh4iC"
      },
      "execution_count": null,
      "outputs": []
    },
    {
      "cell_type": "markdown",
      "source": [
        "Here we have handeled the missing values."
      ],
      "metadata": {
        "id": "myH-pQhdh-yE"
      }
    },
    {
      "cell_type": "markdown",
      "source": [
        "### What did you know about your dataset?"
      ],
      "metadata": {
        "id": "H0kj-8xxnORC"
      }
    },
    {
      "cell_type": "markdown",
      "source": [
        "![Screenshot 2024-03-31 133630.png](data:image/png;base64,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)"
      ],
      "metadata": {
        "id": "gfoNAAC-nUe_"
      }
    },
    {
      "cell_type": "markdown",
      "source": [
        "## ***2. Understanding Your Variables***"
      ],
      "metadata": {
        "id": "nA9Y7ga8ng1Z"
      }
    },
    {
      "cell_type": "code",
      "source": [
        "# Dataset Columns\n",
        "df.columns"
      ],
      "metadata": {
        "id": "j7xfkqrt5Ag5"
      },
      "execution_count": null,
      "outputs": []
    },
    {
      "cell_type": "code",
      "source": [
        "# Dataset Describe\n",
        "df.describe(include='all')"
      ],
      "metadata": {
        "id": "DnOaZdaE5Q5t"
      },
      "execution_count": null,
      "outputs": []
    },
    {
      "cell_type": "code",
      "source": [
        "df.dtypes"
      ],
      "metadata": {
        "id": "px3qy8qYm3yY"
      },
      "execution_count": null,
      "outputs": []
    },
    {
      "cell_type": "markdown",
      "source": [
        "### Variables Description"
      ],
      "metadata": {
        "id": "PBTbrJXOngz2"
      }
    },
    {
      "cell_type": "markdown",
      "source": [
        "\n",
        "\n",
        "\n",
        "*   11 variables have data types as object\n",
        "*   Only 1 vaiable which Is 'release_year' has data type as integer.\n",
        "\n"
      ],
      "metadata": {
        "id": "aJV4KIxSnxay"
      }
    },
    {
      "cell_type": "markdown",
      "source": [
        "### Check Unique Values for each variable."
      ],
      "metadata": {
        "id": "u3PMJOP6ngxN"
      }
    },
    {
      "cell_type": "code",
      "source": [
        "# Check Unique Values for each variable.\n",
        "df.nunique()"
      ],
      "metadata": {
        "id": "zms12Yq5n-jE"
      },
      "execution_count": null,
      "outputs": []
    },
    {
      "cell_type": "code",
      "source": [
        "df.nunique().sum()"
      ],
      "metadata": {
        "id": "pyhcrcoenczy"
      },
      "execution_count": null,
      "outputs": []
    },
    {
      "cell_type": "code",
      "source": [
        "for i in df.columns:\n",
        "  print(f\"No. of unique values in {i} is {df[i].nunique()}\")"
      ],
      "metadata": {
        "id": "Gri2PxImnmqd"
      },
      "execution_count": null,
      "outputs": []
    },
    {
      "cell_type": "markdown",
      "source": [
        "## ***3.Exploratory Data Analysis***\n",
        "\n",
        "# Data Vizualization, Storytelling & Experimenting with charts : Understand the relationships between variables\n",
        "\n",
        "# **Uni-Variate Analysis:**"
      ],
      "metadata": {
        "id": "GF8Ens_Soomf"
      }
    },
    {
      "cell_type": "markdown",
      "source": [
        "#### Chart - 1 Type"
      ],
      "metadata": {
        "id": "0wOQAZs5pc--"
      }
    },
    {
      "cell_type": "code",
      "source": [
        "# Chart - 1 visualization code\n",
        "df['type'].value_counts()"
      ],
      "metadata": {
        "id": "7v_ESjsspbW7"
      },
      "execution_count": null,
      "outputs": []
    },
    {
      "cell_type": "code",
      "source": [
        "sns.countplot(data=df, x='type')\n",
        "plt.title('Count of Movies and TV Shows')\n",
        "plt.xlabel('Type')\n",
        "plt.ylabel('Count')\n",
        "plt.show()"
      ],
      "metadata": {
        "id": "M6pUH7P5pzTq"
      },
      "execution_count": null,
      "outputs": []
    },
    {
      "cell_type": "markdown",
      "source": [
        "##### 1. Why did you pick the specific chart?"
      ],
      "metadata": {
        "id": "K5QZ13OEpz2H"
      }
    },
    {
      "cell_type": "markdown",
      "source": [
        "As we needed to compare the total number of TV Shows & Movies listed on Netflix count plot is the best chart."
      ],
      "metadata": {
        "id": "XESiWehPqBRc"
      }
    },
    {
      "cell_type": "markdown",
      "source": [
        "##### 2. What is/are the insight(s) found from the chart?"
      ],
      "metadata": {
        "id": "lQ7QKXXCp7Bj"
      }
    },
    {
      "cell_type": "markdown",
      "source": [
        "Netflix has 5377 movies and 2400 TV shows, there are more number movies on Netflix than TV shows"
      ],
      "metadata": {
        "id": "C_j1G7yiqdRP"
      }
    },
    {
      "cell_type": "markdown",
      "source": [
        "#### Chart - 2 Ratings"
      ],
      "metadata": {
        "id": "KSlN3yHqYklG"
      }
    },
    {
      "cell_type": "code",
      "source": [
        "# Chart - 2 visualization code\n",
        "df['rating'].value_counts()"
      ],
      "metadata": {
        "id": "R4YgtaqtYklH"
      },
      "execution_count": null,
      "outputs": []
    },
    {
      "cell_type": "code",
      "source": [
        "ratings = {\n",
        "    'TV-PG': 'Older Kids',\n",
        "    'TV-MA': 'Adults',\n",
        "    'TV-Y7-FV': 'Older Kids',\n",
        "    'TV-Y7': 'Older Kids',\n",
        "    'TV-14': 'Teens',\n",
        "    'R': 'Adults',\n",
        "    'TV-Y': 'Kids',\n",
        "    'NR': 'Adults',\n",
        "    'PG-13': 'Teens',\n",
        "    'TV-G': 'Kids',\n",
        "    'PG': 'Older Kids',\n",
        "    'G': 'Kids',\n",
        "    'UR': 'Adults',\n",
        "    'NC-17': 'Adults'\n",
        "}\n",
        "df['target_ages'] = df['rating'].replace(ratings)\n",
        "df['target_ages'].head()"
      ],
      "metadata": {
        "id": "qZOBE66yqwzr"
      },
      "execution_count": null,
      "outputs": []
    },
    {
      "cell_type": "code",
      "source": [
        "df['target_ages'].value_counts()"
      ],
      "metadata": {
        "id": "iwYZzXbSq8Kv"
      },
      "execution_count": null,
      "outputs": []
    },
    {
      "cell_type": "code",
      "source": [
        "plt.figure(figsize=(10,5))\n",
        "sns.countplot(x='target_ages', data = df)\n",
        "plt.show()"
      ],
      "metadata": {
        "id": "Adn_hHBKrDLg"
      },
      "execution_count": null,
      "outputs": []
    },
    {
      "cell_type": "markdown",
      "source": [
        "##### 1. Why did you pick the specific chart?"
      ],
      "metadata": {
        "id": "t6dVpIINYklI"
      }
    },
    {
      "cell_type": "markdown",
      "source": [
        "Here we needed to compare TV Shows & Movies for kids and adults or based on the age group.\n",
        "\n",
        "For that purpose countplot is more feasible."
      ],
      "metadata": {
        "id": "5aaW0BYyYklI"
      }
    },
    {
      "cell_type": "markdown",
      "source": [
        "##### 2. What is/are the insight(s) found from the chart?"
      ],
      "metadata": {
        "id": "ijmpgYnKYklI"
      }
    },
    {
      "cell_type": "markdown",
      "source": [
        "**Around 50% of shows on Netflix are produced for adult audience. Followed by Teens, older kids and kids. Netflix has the least number of shows that are specifically produced for kids than other age groups.**"
      ],
      "metadata": {
        "id": "PSx9atu2YklI"
      }
    },
    {
      "cell_type": "markdown",
      "source": [
        "#### Chart - 3 Typecasting 'date_added' to datetime:"
      ],
      "metadata": {
        "id": "EM7whBJCYoAo"
      }
    },
    {
      "cell_type": "code",
      "source": [
        "# Chart - 3 visualization code\n",
        "df[\"date_added\"].head()"
      ],
      "metadata": {
        "id": "t6GMdE67YoAp"
      },
      "execution_count": null,
      "outputs": []
    },
    {
      "cell_type": "code",
      "source": [
        "df[\"date_added\"] = pd.to_datetime(df['date_added'])\n",
        "df[\"date_added\"].head()"
      ],
      "metadata": {
        "id": "s5207FRAtA5T"
      },
      "execution_count": null,
      "outputs": []
    },
    {
      "cell_type": "code",
      "source": [
        "df.date_added.min(),df.date_added.max()"
      ],
      "metadata": {
        "id": "vKHxcIB5tHrX"
      },
      "execution_count": null,
      "outputs": []
    },
    {
      "cell_type": "code",
      "source": [
        "df['month_added'] = df['date_added'].dt.month\n",
        "df['year_added'] = df['date_added'].dt.year\n",
        "df.drop('date_added', axis=1, inplace=True)\n",
        "df.head()"
      ],
      "metadata": {
        "id": "DYqxDMDytZ6L"
      },
      "execution_count": null,
      "outputs": []
    },
    {
      "cell_type": "code",
      "source": [
        "plt.figure(figsize=(10,5))\n",
        "sns.histplot(df['release_year'])\n",
        "plt.title('distribution by released year')"
      ],
      "metadata": {
        "id": "8AbIcGMvtsr3"
      },
      "execution_count": null,
      "outputs": []
    },
    {
      "cell_type": "code",
      "source": [
        "plt.figure(figsize = (10,5))\n",
        "sns.countplot(x = 'month_added' , data = df)\n",
        "plt.title('Shows/Movies added each month over the years')\n",
        "plt.xlabel('Months')"
      ],
      "metadata": {
        "id": "EH9z8kxquCFh"
      },
      "execution_count": null,
      "outputs": []
    },
    {
      "cell_type": "markdown",
      "source": [
        "##### 1. Why did you pick the specific chart?"
      ],
      "metadata": {
        "id": "fge-S5ZAYoAp"
      }
    },
    {
      "cell_type": "markdown",
      "source": [
        "\n",
        "\n",
        "*   Histograms provide a visual summary of the distribution of data values. They show the frequency or count of data points within different intervals or bins, allowing you to quickly grasp the central tendency, spread, and shape of the data.Thats why I have used 'histplot'\n",
        "*   I have used countplot in order to compare the amount of TV Shows / Movies added by Netflix in each month.\n",
        "\n"
      ],
      "metadata": {
        "id": "5dBItgRVYoAp"
      }
    },
    {
      "cell_type": "markdown",
      "source": [
        "##### 2. What is/are the insight(s) found from the chart?"
      ],
      "metadata": {
        "id": "85gYPyotYoAp"
      }
    },
    {
      "cell_type": "markdown",
      "source": [
        "\n",
        "\n",
        "*   The shows were added on Netflix between 1st January 2008 and 16th January 2021.\n",
        "*   Netflix has greater number of new movies / TV shows than the old ones.\n",
        "\n",
        "*   Over the years a greater number of shows were added in the months of October, November, December, and January.\n",
        "*   Netflix continuous to add more shows/movies on its platform over the years.\n",
        "\n",
        "*   There is a decrease in the number of shows/movies added in the year 2020, which might be attributed to the covid-19-induced lockdowns, which halted the creation of shows.\n",
        "*   We have Netflix data only up to 16th January 2021, hence there are less movies added in this year.\n",
        "\n",
        "\n",
        "\n",
        "\n",
        "\n"
      ],
      "metadata": {
        "id": "4jstXR6OYoAp"
      }
    },
    {
      "cell_type": "markdown",
      "source": [
        "#### Chart - 4 Director"
      ],
      "metadata": {
        "id": "4Of9eVA-YrdM"
      }
    },
    {
      "cell_type": "code",
      "source": [
        "# Chart - 4 visualization code\n",
        "plt.figure(figsize=(10,5))\n",
        "df[~(df['director']=='Unknown')].director.value_counts().nlargest(10).plot(kind='barh')\n",
        "plt.title('Top 10 directors by number of shows directed')"
      ],
      "metadata": {
        "id": "irlUoxc8YrdO"
      },
      "execution_count": null,
      "outputs": []
    },
    {
      "cell_type": "markdown",
      "source": [
        "##### 1. Why did you pick the specific chart?"
      ],
      "metadata": {
        "id": "iky9q4vBYrdO"
      }
    },
    {
      "cell_type": "markdown",
      "source": [
        "\n",
        "\n",
        "*   A horizontal bar graph, often referred to as a horizontal bar plot or a barh graph, is a type of chart where categorical data is represented by horizontal bars.\n",
        "*   Horizontal bar graphs make it easy to compare the values of different categories side by side in this case the 'director'.\n",
        "\n"
      ],
      "metadata": {
        "id": "aJRCwT6DYrdO"
      }
    },
    {
      "cell_type": "markdown",
      "source": [
        "##### 2. What is/are the insight(s) found from the chart?"
      ],
      "metadata": {
        "id": "F6T5p64dYrdO"
      }
    },
    {
      "cell_type": "markdown",
      "source": [
        "Raúl Campos & Jan Suter have directed the most amount of TV Shows & Movies which are uploaded by netflix and are the highest than everyone in the dataset."
      ],
      "metadata": {
        "id": "Xx8WAJvtYrdO"
      }
    },
    {
      "cell_type": "markdown",
      "source": [
        "#### Chart - 5 Country & Listed In"
      ],
      "metadata": {
        "id": "bamQiAODYuh1"
      }
    },
    {
      "cell_type": "code",
      "source": [
        "# Chart - 5 visualization code\n",
        "df['country'].value_counts()"
      ],
      "metadata": {
        "id": "TIJwrbroYuh3"
      },
      "execution_count": null,
      "outputs": []
    },
    {
      "cell_type": "code",
      "source": [
        "df['listed_in'].value_counts()"
      ],
      "metadata": {
        "id": "Cg9yM3bS4XNP"
      },
      "execution_count": null,
      "outputs": []
    },
    {
      "cell_type": "code",
      "source": [
        "df['country'] = df['country'].apply(lambda x: x.split(',')[0])\n",
        "df['listed_in'] = df['listed_in'].apply(lambda x: x.split(',')[0])"
      ],
      "metadata": {
        "id": "AWIj-qNH4rjS"
      },
      "execution_count": null,
      "outputs": []
    },
    {
      "cell_type": "code",
      "source": [
        "df['country'].value_counts()"
      ],
      "metadata": {
        "id": "TDEn0uAe4t8o"
      },
      "execution_count": null,
      "outputs": []
    },
    {
      "cell_type": "code",
      "source": [
        "df['listed_in'].value_counts()"
      ],
      "metadata": {
        "id": "f4ySIs5p479Z"
      },
      "execution_count": null,
      "outputs": []
    },
    {
      "cell_type": "code",
      "source": [
        "plt.figure(figsize=(10,5))\n",
        "df[~(df['country']=='Unknown')].country.value_counts().nlargest(10).plot(kind='barh')\n",
        "plt.title(' Top 10 countries with the highest number of shows')"
      ],
      "metadata": {
        "id": "_fXzWvSJ5EeQ"
      },
      "execution_count": null,
      "outputs": []
    },
    {
      "cell_type": "code",
      "source": [
        "plt.figure(figsize=(10,5))\n",
        "df.listed_in.value_counts().nlargest(10).plot(kind='barh')\n",
        "plt.title('Top 10 genres')"
      ],
      "metadata": {
        "id": "4SqnbjAv5v9-"
      },
      "execution_count": null,
      "outputs": []
    },
    {
      "cell_type": "markdown",
      "source": [
        "##### 1. Why did you pick the specific chart?"
      ],
      "metadata": {
        "id": "QHF8YVU7Yuh3"
      }
    },
    {
      "cell_type": "markdown",
      "source": [
        "\n",
        "\n",
        "\n",
        "*   A horizontal bar graph, often referred to as a horizontal bar plot or a barh graph, is a type of chart where categorical data is represented by horizontal bars.\n",
        "*   Horizontal bar graphs make it easy to compare the values of different categories side by side in this case ' Top 10 countries with the highest number of shows' & 'Top 10 generes'\n",
        "\n",
        "\n"
      ],
      "metadata": {
        "id": "dcxuIMRPYuh3"
      }
    },
    {
      "cell_type": "markdown",
      "source": [
        "##### 2. What is/are the insight(s) found from the chart?"
      ],
      "metadata": {
        "id": "GwzvFGzlYuh3"
      }
    },
    {
      "cell_type": "markdown",
      "source": [
        "\n",
        "\n",
        "*   There are some movies / TV shows that were filmed in multiple countries, have multiple genres associated with it.\n",
        "*   The highest number of movies / TV shows were based out of the US, followed by India and UK.\n",
        "\n",
        "*   The dramas is the most popular genre followed by comedies and documentries.\n",
        "*   The majority of the shows on Netflix are catered to the needs of adult and teens population.\n",
        "\n",
        "\n",
        "\n"
      ],
      "metadata": {
        "id": "uyqkiB8YYuh3"
      }
    },
    {
      "cell_type": "markdown",
      "source": [
        "# **Bivariate Analysis :**"
      ],
      "metadata": {
        "id": "GZtcuASK7AyV"
      }
    },
    {
      "cell_type": "markdown",
      "source": [
        "#### Chart - 6"
      ],
      "metadata": {
        "id": "OH-pJp9IphqM"
      }
    },
    {
      "cell_type": "code",
      "source": [
        "# Chart - 6 visualization code\n",
        "print(f\"number of director who directed movie : {df[df['type']=='Movie'][~(df['director']=='Unknown')].value_counts().sum()}\")\n",
        "print(f\"number of director who directed TV Show :{df[df['type']=='TV Show'][~(df['director']=='Unknown')].value_counts().sum()}\")"
      ],
      "metadata": {
        "id": "kuRf4wtuphqN"
      },
      "execution_count": null,
      "outputs": []
    },
    {
      "cell_type": "code",
      "source": [
        "fig,ax = plt.subplots(1,2, figsize=(10,5))\n",
        "\n",
        "# top 10 director who directed TV show\n",
        "show =df[df['type']=='TV Show'][~(df['director']=='Unknown')].director.value_counts()[:10].plot(kind='barh', ax=ax[0])\n",
        "show.set_title('top 10 director who directed TV Show', size=10)\n",
        "\n",
        "\n",
        "# top 10 director who directed movie\n",
        "movie =df[df['type']=='Movie'][~(df['director']=='Unknown')].director.value_counts()[:10].plot(kind='barh', ax=ax[1])\n",
        "movie.set_title('top 10 director who directed Movie', size=10)\n",
        "\n",
        "plt.tight_layout()\n",
        "plt.show()"
      ],
      "metadata": {
        "id": "J5Rm8UxV73MO"
      },
      "execution_count": null,
      "outputs": []
    },
    {
      "cell_type": "code",
      "source": [
        "fig,ax = plt.subplots(1,2, figsize=(15,5))\n",
        "\n",
        "# top 10 TV shows actor\n",
        "TV_shows = df[df['type']=='TV Show'][~(df['cast']=='Unknown')].cast.str.split(', ', expand=True).stack().reset_index(level=1, drop=True).value_counts()[:10].plot(kind='barh', ax=ax[0])\n",
        "TV_shows.set_title('Top 10 actors who appeared in Tv shows', size=15)\n",
        "\n",
        "# top 10 Movie actor\n",
        "movies = df[df['type']=='Movie'][~(df['cast']=='Unknown')].cast.str.split(', ', expand=True).stack().reset_index(level=1, drop=True).value_counts()[:10].plot(kind='barh', ax=ax[1])\n",
        "movies.set_title('Top 10 actors who appeared in movie', size=15)\n",
        "\n",
        "plt.tight_layout()\n",
        "plt.show()"
      ],
      "metadata": {
        "id": "mgCpl0o-8IRa"
      },
      "execution_count": null,
      "outputs": []
    },
    {
      "cell_type": "markdown",
      "source": [
        "##### 1. Why did you pick the specific chart?"
      ],
      "metadata": {
        "id": "bbFf2-_FphqN"
      }
    },
    {
      "cell_type": "markdown",
      "source": [
        "\n",
        "\n",
        "*   Horizontal bar graphs make it easy to compare the values of different categories side by side as we saw in above visualisations.\n",
        "\n"
      ],
      "metadata": {
        "id": "loh7H2nzphqN"
      }
    },
    {
      "cell_type": "markdown",
      "source": [
        "##### 2. What is/are the insight(s) found from the chart?"
      ],
      "metadata": {
        "id": "_ouA3fa0phqN"
      }
    },
    {
      "cell_type": "markdown",
      "source": [
        "\n",
        "\n",
        "*   Alastair Fothergill has directed three TV shows, the most of any director.  \n",
        "*   Raul Campos and Jan Suter have togather directed in 18 movies, higher than everyone. This is followed by Marcus Roboy, Jay Karas, and Cathy Gracia-Molina.\n",
        "*   Takahiro Sakurai, Yuki Kaji and Daisuke Ono played highest role in the TV shows.\n",
        "*   Anupam Kher, Shahrukh Khan and Om Puri played highest number of role in the movies.\n",
        "\n"
      ],
      "metadata": {
        "id": "VECbqPI7phqN"
      }
    },
    {
      "cell_type": "markdown",
      "source": [
        "#### Chart - 7 Duration"
      ],
      "metadata": {
        "id": "PIIx-8_IphqN"
      }
    },
    {
      "cell_type": "code",
      "source": [
        "# Chart - 7 visualization code\n",
        "plt.figure(figsize=(10,7))\n",
        "sns.distplot(df[df['type']=='Movie']['duration'].str.extract('(\\d+)'),kde=False, color=['blue'])\n",
        "plt.title('Distplot with Normal distribution for Movies',fontweight=\"bold\")\n",
        "plt.show()"
      ],
      "metadata": {
        "id": "lqAIGUfyphqO"
      },
      "execution_count": null,
      "outputs": []
    },
    {
      "cell_type": "code",
      "source": [
        "plt.figure(figsize=(15,10))\n",
        "tv_show_durations = df[df['type'] == 'TV Show']['duration']\n",
        "ordered_durations = tv_show_durations.value_counts().index\n",
        "\n",
        "sns.countplot(data=df[df['type'] == 'TV Show'], x='duration', order=ordered_durations)\n",
        "plt.title('Count of TV Show Durations',fontweight=\"bold\")\n",
        "plt.show()"
      ],
      "metadata": {
        "id": "3c436sr6-EBD"
      },
      "execution_count": null,
      "outputs": []
    },
    {
      "cell_type": "markdown",
      "source": [
        "##### 1. Why did you pick the specific chart?"
      ],
      "metadata": {
        "id": "t27r6nlMphqO"
      }
    },
    {
      "cell_type": "markdown",
      "source": [
        "\n",
        "\n",
        "*   As we needed to compare the total time duration of TV Shows & Movies listed on Netflix count plot or dist plot is the best chart."
      ],
      "metadata": {
        "id": "iv6ro40sphqO"
      }
    },
    {
      "cell_type": "markdown",
      "source": [
        "##### 2. What is/are the insight(s) found from the chart?"
      ],
      "metadata": {
        "id": "r2jJGEOYphqO"
      }
    },
    {
      "cell_type": "markdown",
      "source": [
        "\n",
        "\n",
        "*   Most of the movies have duration of minutes between 50 min to 150 min\n",
        "*   There are highest number of tv_shows consisting of single season\n",
        "\n"
      ],
      "metadata": {
        "id": "Po6ZPi4hphqO"
      }
    },
    {
      "cell_type": "markdown",
      "source": [
        "#### Chart - 8 Description"
      ],
      "metadata": {
        "id": "BZR9WyysphqO"
      }
    },
    {
      "cell_type": "code",
      "source": [
        "# Chart - 8 visualization code\n",
        "from wordcloud import WordCloud, STOPWORDS\n",
        "text = \" \".join(word for word in df['description'])"
      ],
      "metadata": {
        "id": "TdPTWpAVphqO"
      },
      "execution_count": null,
      "outputs": []
    },
    {
      "cell_type": "code",
      "source": [
        "wordcloud = WordCloud(stopwords=STOPWORDS).generate(text)"
      ],
      "metadata": {
        "id": "VnC48mak_xAE"
      },
      "execution_count": null,
      "outputs": []
    },
    {
      "cell_type": "code",
      "source": [
        "plt.imshow(wordcloud,  interpolation='bilinear')\n",
        "plt.axis(\"off\")\n",
        "plt.show()"
      ],
      "metadata": {
        "id": "lLKjB-VK_2LR"
      },
      "execution_count": null,
      "outputs": []
    },
    {
      "cell_type": "markdown",
      "source": [
        "##### 1. Why did you pick the specific chart?"
      ],
      "metadata": {
        "id": "jj7wYXLtphqO"
      }
    },
    {
      "cell_type": "markdown",
      "source": [
        "\n",
        "*   This code snippet is specifically used to display a word cloud generated from text data using Matplotlib, with the axis turned off for a cleaner visualization.\n",
        "*   The 'bilinear' interpolation method is chosen to ensure smooth rendering of the word cloud image."
      ],
      "metadata": {
        "id": "Ob8u6rCTphqO"
      }
    },
    {
      "cell_type": "markdown",
      "source": [
        "##### 2. What is/are the insight(s) found from the chart?"
      ],
      "metadata": {
        "id": "eZrbJ2SmphqO"
      }
    },
    {
      "cell_type": "markdown",
      "source": [
        "Most of the comman words present in description column are family, find, life, love, new, take, world, friend, live."
      ],
      "metadata": {
        "id": "mZtgC_hjphqO"
      }
    },
    {
      "cell_type": "markdown",
      "source": [
        "#### Chart - 9 No. of Movies and TV Shows added"
      ],
      "metadata": {
        "id": "YJ55k-q6phqO"
      }
    },
    {
      "cell_type": "code",
      "source": [
        "# Chart - 9 visualization code\n",
        "plt.figure(figsize=(10,5))\n",
        "p = sns.countplot(x='year_added',data=df, hue='type')\n",
        "plt.title('Number of movies and TV shows added over the years')\n",
        "plt.xlabel('')\n",
        "for i in p.patches:\n",
        "  p.annotate(format(i.get_height(), '.0f'), (i.get_x() + i.get_width() / 2., i.get_height()), ha = 'center', va = 'center', xytext = (0, 10), textcoords = 'offset points')"
      ],
      "metadata": {
        "id": "B2aS4O1ophqO"
      },
      "execution_count": null,
      "outputs": []
    },
    {
      "cell_type": "code",
      "source": [
        "order = range(2008,2022)\n",
        "plt.figure(figsize=(10,5))\n",
        "p = sns.countplot(x='release_year',data=df, hue='type', order = order)\n",
        "plt.title('Number of shows released each year since 2008 that are on Netflix')\n",
        "plt.xlabel('')\n",
        "for i in p.patches:\n",
        "  p.annotate(format(i.get_height(), '.0f'), (i.get_x() + i.get_width() / 2., i.get_height()), ha = 'center', va = 'center', xytext = (0, 10), textcoords = 'offset points')"
      ],
      "metadata": {
        "id": "KAExqK6RB5_L"
      },
      "execution_count": null,
      "outputs": []
    },
    {
      "cell_type": "markdown",
      "source": [
        "##### 1. Why did you pick the specific chart?"
      ],
      "metadata": {
        "id": "gCFgpxoyphqP"
      }
    },
    {
      "cell_type": "markdown",
      "source": [
        "We have used countplot in order to compare number of movies and TV shows added over the years and number of shows released each year since 2008 that are on netflix side by side."
      ],
      "metadata": {
        "id": "TVxDimi2phqP"
      }
    },
    {
      "cell_type": "markdown",
      "source": [
        "##### 2. What is/are the insight(s) found from the chart?"
      ],
      "metadata": {
        "id": "OVtJsKN_phqQ"
      }
    },
    {
      "cell_type": "markdown",
      "source": [
        "\n",
        "*   Over the years, Netflix has consistently focused on adding more shows in its platform.\n",
        "\n",
        "\n",
        "*   Though there was a decrease in the number of movies added in 2020, this pattern did not exist in the number of TV shows added in the same year.\n",
        "*   This might signal that Netflix is increasingly concentrating on introducing more TV series to its platform rather than movies."
      ],
      "metadata": {
        "id": "ngGi97qjphqQ"
      }
    },
    {
      "cell_type": "markdown",
      "source": [
        "#### Chart - 10 Average movie length over the years"
      ],
      "metadata": {
        "id": "U2RJ9gkRphqQ"
      }
    },
    {
      "cell_type": "code",
      "source": [
        "# Chart - 10 visualization code\n",
        "df['duration'] = df['duration'].apply(lambda x: int(x.split()[0]))"
      ],
      "metadata": {
        "id": "GM7a4YP4phqQ"
      },
      "execution_count": null,
      "outputs": []
    },
    {
      "cell_type": "code",
      "source": [
        "plt.figure(figsize=(10,5))\n",
        "df[df['type']=='Movie'].groupby('release_year')['duration'].mean().plot(kind='line')\n",
        "plt.title('Average movie length over the years')\n",
        "plt.ylabel('Length of movie in minutes')\n",
        "plt.xlabel('Year')"
      ],
      "metadata": {
        "id": "9cWtl83YDR5K"
      },
      "execution_count": null,
      "outputs": []
    },
    {
      "cell_type": "markdown",
      "source": [
        "##### 1. Why did you pick the specific chart?"
      ],
      "metadata": {
        "id": "1M8mcRywphqQ"
      }
    },
    {
      "cell_type": "markdown",
      "source": [
        " A line plot is used to visualize the average length of movies over the years as per the dataset."
      ],
      "metadata": {
        "id": "8agQvks0phqQ"
      }
    },
    {
      "cell_type": "markdown",
      "source": [
        "##### 2. What is/are the insight(s) found from the chart?"
      ],
      "metadata": {
        "id": "tgIPom80phqQ"
      }
    },
    {
      "cell_type": "markdown",
      "source": [
        "\n",
        "\n",
        "*   Netflix has several movies on its site including those that were released in way back 1942.\n",
        "\n",
        "*   Movies made in the 1940s had a fairly short duration on average.\n",
        "*   On an average movies made in the 1960s have the longest movie length.\n",
        "\n",
        "\n",
        "*   The average length of a movie has been gradually decreasing since the 2000s.\n",
        "\n"
      ],
      "metadata": {
        "id": "Qp13pnNzphqQ"
      }
    },
    {
      "cell_type": "markdown",
      "source": [
        "#### Chart - 11"
      ],
      "metadata": {
        "id": "x-EpHcCOp1ci"
      }
    },
    {
      "cell_type": "code",
      "source": [
        "# Chart - 11 visualization code\n",
        "df['count'] = 1\n",
        "data = df.groupby('country')[['country','count']].sum().sort_values(by='count',ascending=False).reset_index()[:10]\n",
        "data = data['country']\n",
        "\n",
        "\n",
        "df_heatmap = df.loc[df['country'].isin(data)]\n",
        "df_heatmap = pd.crosstab(df_heatmap['country'],df_heatmap['target_ages'],normalize = \"index\").T\n",
        "df_heatmap"
      ],
      "metadata": {
        "id": "mAQTIvtqp1cj"
      },
      "execution_count": null,
      "outputs": []
    },
    {
      "cell_type": "code",
      "source": [
        "fig, ax = plt.subplots(1, 1, figsize=(12, 12))\n",
        "\n",
        "country_order2 = ['United States', 'India', 'United Kingdom', 'Canada', 'Japan', 'France', 'South Korea', 'Spain',\n",
        "       'Mexico']\n",
        "\n",
        "age_order = ['Adults', 'Teens', 'Older Kids', 'Kids']\n",
        "\n",
        "sns.heatmap(df_heatmap.loc[age_order,country_order2],cmap=\"YlGnBu\",square=True, linewidth=2.5,cbar=False,\n",
        "            annot=True,fmt='1.0%',vmax=.6,vmin=0.05,ax=ax,annot_kws={\"fontsize\":12})\n",
        "plt.show()"
      ],
      "metadata": {
        "id": "u5qi5BvOEjCO"
      },
      "execution_count": null,
      "outputs": []
    },
    {
      "cell_type": "markdown",
      "source": [
        "##### 1. Why did you pick the specific chart?"
      ],
      "metadata": {
        "id": "X_VqEhTip1ck"
      }
    },
    {
      "cell_type": "markdown",
      "source": [
        " A heatmap is used to visualize the relationship between two categorical variables: age group('target_ages') and country."
      ],
      "metadata": {
        "id": "-vsMzt_np1ck"
      }
    },
    {
      "cell_type": "markdown",
      "source": [
        "##### 2. What is/are the insight(s) found from the chart?"
      ],
      "metadata": {
        "id": "8zGJKyg5p1ck"
      }
    },
    {
      "cell_type": "markdown",
      "source": [
        "\n",
        "\n",
        "*   The US and UK are closely aligned with their Netflix target ages, but radically different from, example, India or Japan!\n",
        "\n",
        "\n",
        "*   Also, Mexico and Spain have similar content on Netflix for different age groups.\n",
        "\n"
      ],
      "metadata": {
        "id": "ZYdMsrqVp1ck"
      }
    },
    {
      "cell_type": "markdown",
      "source": [
        "#### Chart - 12 Showing percentage of originals and others in movies"
      ],
      "metadata": {
        "id": "n3dbpmDWp1ck"
      }
    },
    {
      "cell_type": "code",
      "source": [
        "# Chart - 12 visualization code\n",
        "df['originals'] = np.where(df['release_year'] == df['year_added'], 'Yes', 'No')\n",
        "fig, ax = plt.subplots(figsize=(5,5),facecolor=\"#363336\")\n",
        "ax.patch.set_facecolor('#363336')\n",
        "explode = (0, 0.1)\n",
        "ax.pie(df['originals'].value_counts(), explode=explode, autopct='%.3f%%', labels= ['Others', 'Originals'],\n",
        "       shadow=True, startangle=90,textprops={'color':\"black\", 'fontsize': 20}, colors =['red','#F5E9F5'])"
      ],
      "metadata": {
        "id": "bwevp1tKp1ck"
      },
      "execution_count": null,
      "outputs": []
    },
    {
      "cell_type": "markdown",
      "source": [
        "##### 1. Why did you pick the specific chart?"
      ],
      "metadata": {
        "id": "ylSl6qgtp1ck"
      }
    },
    {
      "cell_type": "markdown",
      "source": [
        "\n",
        "A pie chart is used in this case to visualize the proportion of \"Originals\" compared to other content categories in the dataset."
      ],
      "metadata": {
        "id": "m2xqNkiQp1ck"
      }
    },
    {
      "cell_type": "markdown",
      "source": [
        "##### 2. What is/are the insight(s) found from the chart?"
      ],
      "metadata": {
        "id": "ZWILFDl5p1ck"
      }
    },
    {
      "cell_type": "markdown",
      "source": [
        "\n",
        "\n",
        "*   36% movies are released on Netflix. 64% movies added on Netflix were released earlier by different mode and added to netflix later.\n",
        "*   Some movies and TV shows were actually released in the past and they were added later on Netflix. But some movies and TV shows were released on Netflix itself. Named as Netflix Originals.\n"
      ],
      "metadata": {
        "id": "x-lUsV2mp1ck"
      }
    },
    {
      "cell_type": "markdown",
      "source": [
        "#### Chart - 13 - Correlation Heatmap"
      ],
      "metadata": {
        "id": "NC_X3p0fY2L0"
      }
    },
    {
      "cell_type": "code",
      "source": [
        "# Correlation Heatmap visualization code\n",
        "correlation = df.corr()"
      ],
      "metadata": {
        "id": "xyC9zolEZNRQ"
      },
      "execution_count": null,
      "outputs": []
    },
    {
      "cell_type": "code",
      "source": [
        "plt.figure(figsize=(10, 5))\n",
        "sns.heatmap(correlation, annot=True,cmap=\"YlGnBu\",square=True, linewidth=2.5, cbar=False)\n",
        "plt.title('Correlation Heatmap')\n",
        "plt.show()"
      ],
      "metadata": {
        "id": "7OmgDYl4G4Fw"
      },
      "execution_count": null,
      "outputs": []
    },
    {
      "cell_type": "markdown",
      "source": [
        "##### 1. Why did you pick the specific chart?"
      ],
      "metadata": {
        "id": "UV0SzAkaZNRQ"
      }
    },
    {
      "cell_type": "markdown",
      "source": [
        "A heatmap is used in this case to visualize the correlation matrix."
      ],
      "metadata": {
        "id": "DVPuT8LYZNRQ"
      }
    },
    {
      "cell_type": "markdown",
      "source": [
        "##### 2. What is/are the insight(s) found from the chart?"
      ],
      "metadata": {
        "id": "YPEH6qLeZNRQ"
      }
    },
    {
      "cell_type": "markdown",
      "source": [
        "#### Chart - 14 - Pair Plot"
      ],
      "metadata": {
        "id": "q29F0dvdveiT"
      }
    },
    {
      "cell_type": "code",
      "source": [
        "# Pair Plot visualization code\n",
        "sns.pairplot(df)\n",
        "plt.show()"
      ],
      "metadata": {
        "id": "o58-TEIhveiU"
      },
      "execution_count": null,
      "outputs": []
    },
    {
      "cell_type": "markdown",
      "source": [
        "## ***4. Hypothesis Testing***"
      ],
      "metadata": {
        "id": "g-ATYxFrGrvw"
      }
    },
    {
      "cell_type": "markdown",
      "source": [
        "### Based on your chart experiments, define  hypothetical statements from the dataset. In the next questions, perform hypothesis testing to obtain final conclusion about the statements through your code and statistical testing."
      ],
      "metadata": {
        "id": "Yfr_Vlr8HBkt"
      }
    },
    {
      "cell_type": "markdown",
      "source": [
        "Answer Here."
      ],
      "metadata": {
        "id": "-7MS06SUHkB-"
      }
    },
    {
      "cell_type": "markdown",
      "source": [
        "### Hypothetical Statement - 1"
      ],
      "metadata": {
        "id": "8yEUt7NnHlrM"
      }
    },
    {
      "cell_type": "markdown",
      "source": [
        "#### 1. State Your research hypothesis as a null hypothesis and alternate hypothesis."
      ],
      "metadata": {
        "id": "tEA2Xm5dHt1r"
      }
    },
    {
      "cell_type": "markdown",
      "source": [
        "H0:movies rated for kids and older kids are at least two hours long.\n",
        "\n",
        "H1:movies rated for kids and older kids are not at least two hours long."
      ],
      "metadata": {
        "id": "HI9ZP0laH0D-"
      }
    },
    {
      "cell_type": "markdown",
      "source": [
        "#### 2. Perform an appropriate statistical test."
      ],
      "metadata": {
        "id": "I79__PHVH19G"
      }
    },
    {
      "cell_type": "code",
      "source": [
        "# Perform Statistical Test to obtain P-Value\n",
        "movies = df[df['type']== 'Movie']"
      ],
      "metadata": {
        "id": "oZrfquKtyian"
      },
      "execution_count": null,
      "outputs": []
    },
    {
      "cell_type": "code",
      "source": [
        "group_by_= df[['duration','type']].groupby(by='type')\n",
        "group=group_by_.mean().reset_index()\n",
        "group"
      ],
      "metadata": {
        "id": "95vKZ_ZfnJ9d"
      },
      "execution_count": null,
      "outputs": []
    },
    {
      "cell_type": "code",
      "source": [
        "A= group_by_.get_group('Movie')\n",
        "B= group_by_.get_group('TV Show')\n",
        "\n",
        "M1 = A.mean()\n",
        "S1 = A.std()\n",
        "\n",
        "M2= B.mean()\n",
        "S2 = B.std()\n",
        "\n",
        "print('Mean  {}'.format(M1,M2))\n",
        "print('Std  {}'.format(S2,S1))"
      ],
      "metadata": {
        "id": "_jvz135inO_h"
      },
      "execution_count": null,
      "outputs": []
    },
    {
      "cell_type": "code",
      "source": [
        "from scipy import stats\n",
        "#length of groups and DOF\n",
        "n1 = len(A)\n",
        "n2= len(B)\n",
        "print(n1,n2)\n",
        "\n",
        "dof = n1+n2-2\n",
        "print('dof',dof)\n",
        "\n",
        "sp_2 = ((n2-1)*S1**2  + (n1-1)*S2**2) / dof\n",
        "print('SP_2 =',sp_2)\n",
        "\n",
        "sp = np.sqrt(sp_2)\n",
        "print('SP',sp)\n",
        "\n",
        "#tvalue\n",
        "t_val = (M1-M2)/(sp * np.sqrt(1/n1 + 1/n2))\n",
        "print('tvalue',t_val[0])"
      ],
      "metadata": {
        "id": "FZYHm9qVnVDz"
      },
      "execution_count": null,
      "outputs": []
    },
    {
      "cell_type": "code",
      "source": [
        "stats.t.ppf(0.025,dof)"
      ],
      "metadata": {
        "id": "GUZiKMz-njL8"
      },
      "execution_count": null,
      "outputs": []
    },
    {
      "cell_type": "code",
      "source": [
        "stats.t.ppf(0.975,dof)"
      ],
      "metadata": {
        "id": "-BCkrUBpnkPb"
      },
      "execution_count": null,
      "outputs": []
    },
    {
      "cell_type": "markdown",
      "source": [
        "As we can see the t-value is not the the range; Therefore the null hypothesis is rejected.\n",
        "\n",
        "As a result, the duration which has more than 90 mins are Movies."
      ],
      "metadata": {
        "id": "_QdDLtMpnwKZ"
      }
    },
    {
      "cell_type": "markdown",
      "source": [
        "## ***5. Feature Engineering & Data Pre-processing***"
      ],
      "metadata": {
        "id": "yLjJCtPM0KBk"
      }
    },
    {
      "cell_type": "markdown",
      "source": [
        "### 1. Handling Missing Values"
      ],
      "metadata": {
        "id": "xiyOF9F70UgQ"
      }
    },
    {
      "cell_type": "code",
      "source": [
        "# We already have handeled missing values."
      ],
      "metadata": {
        "id": "iRsAHk1K0fpS"
      },
      "execution_count": null,
      "outputs": []
    },
    {
      "cell_type": "markdown",
      "source": [
        "#### What all missing value imputation techniques have you used and why did you use those techniques?"
      ],
      "metadata": {
        "id": "7wuGOrhz0itI"
      }
    },
    {
      "cell_type": "markdown",
      "source": [
        "Answer Here."
      ],
      "metadata": {
        "id": "1ixusLtI0pqI"
      }
    },
    {
      "cell_type": "markdown",
      "source": [
        "### 2. Handling Outliers"
      ],
      "metadata": {
        "id": "id1riN9m0vUs"
      }
    },
    {
      "cell_type": "code",
      "source": [
        "# There are no such outliers present in the given data."
      ],
      "metadata": {
        "id": "M6w2CzZf04JK"
      },
      "execution_count": null,
      "outputs": []
    },
    {
      "cell_type": "markdown",
      "source": [
        "##### What all outlier treatment techniques have you used and why did you use those techniques?"
      ],
      "metadata": {
        "id": "578E2V7j08f6"
      }
    },
    {
      "cell_type": "markdown",
      "source": [
        "Answer Here."
      ],
      "metadata": {
        "id": "uGZz5OrT1HH-"
      }
    },
    {
      "cell_type": "markdown",
      "source": [
        "### 3. Categorical Encoding"
      ],
      "metadata": {
        "id": "89xtkJwZ18nB"
      }
    },
    {
      "cell_type": "code",
      "source": [
        "# Encode your categorical columns"
      ],
      "metadata": {
        "id": "21JmIYMG2hEo"
      },
      "execution_count": null,
      "outputs": []
    },
    {
      "cell_type": "markdown",
      "source": [
        "#### What all categorical encoding techniques have you used & why did you use those techniques?"
      ],
      "metadata": {
        "id": "67NQN5KX2AMe"
      }
    },
    {
      "cell_type": "markdown",
      "source": [
        "Answer Here."
      ],
      "metadata": {
        "id": "UDaue5h32n_G"
      }
    },
    {
      "cell_type": "markdown",
      "source": [
        "### 4. Textual Data Preprocessing\n",
        "(It's mandatory for textual dataset i.e., NLP, Sentiment Analysis, Text Clustering etc.)"
      ],
      "metadata": {
        "id": "Iwf50b-R2tYG"
      }
    },
    {
      "cell_type": "markdown",
      "source": [
        "#### 1. Creating final_text column using all text column which one is used for model building purpose."
      ],
      "metadata": {
        "id": "WVIkgGqN3qsr"
      }
    },
    {
      "cell_type": "code",
      "source": [
        "df['final_text'] = df['description'] + ' ' + df['listed_in'] +' ' + df['rating'] + ' ' + df['cast'] + ' ' + df['country'] + ' ' + df['director']\n",
        "df['final_text']"
      ],
      "metadata": {
        "id": "88JnJ1jN3w7j"
      },
      "execution_count": null,
      "outputs": []
    },
    {
      "cell_type": "code",
      "source": [
        "df.final_text[0]"
      ],
      "metadata": {
        "id": "XicP3CW-ve5X"
      },
      "execution_count": null,
      "outputs": []
    },
    {
      "cell_type": "code",
      "source": [
        "df.dtypes"
      ],
      "metadata": {
        "id": "5QCRQo7cvhuF"
      },
      "execution_count": null,
      "outputs": []
    },
    {
      "cell_type": "code",
      "source": [
        "import string,unicodedata\n",
        "string.punctuation\n",
        "import nltk\n",
        "from nltk.corpus import stopwords\n",
        "nltk.download('stopwords')\n",
        "from nltk.stem.snowball import SnowballStemmer\n",
        "from sklearn.feature_extraction.text import CountVectorizer\n",
        "from sklearn.feature_extraction.text import TfidfVectorizer\n",
        "from sklearn.decomposition import PCA"
      ],
      "metadata": {
        "id": "2CvmJQd6vmL0"
      },
      "execution_count": null,
      "outputs": []
    },
    {
      "cell_type": "markdown",
      "source": [
        "#### 2. Removing Punctuations"
      ],
      "metadata": {
        "id": "XkPnILGE3zoT"
      }
    },
    {
      "cell_type": "code",
      "source": [
        "# Remove Punctuations\n",
        "def remove_punctuation(text):\n",
        "    translator = str.maketrans('', '', string.punctuation)\n",
        "    return text.translate(translator)"
      ],
      "metadata": {
        "id": "vqbBqNaA33c0"
      },
      "execution_count": null,
      "outputs": []
    },
    {
      "cell_type": "code",
      "source": [
        "df['final_text'] = df['final_text'].apply(remove_punctuation)"
      ],
      "metadata": {
        "id": "jkpN_FqRv4yi"
      },
      "execution_count": null,
      "outputs": []
    },
    {
      "cell_type": "code",
      "source": [
        "df['final_text'][0]"
      ],
      "metadata": {
        "id": "6BpACM4vv_0w"
      },
      "execution_count": null,
      "outputs": []
    },
    {
      "cell_type": "markdown",
      "source": [
        "#### 3. Removing Stopwords & Lower Case"
      ],
      "metadata": {
        "id": "mT9DMSJo4nBL"
      }
    },
    {
      "cell_type": "code",
      "source": [
        "stop_words = stopwords.words('english')\n",
        "\n",
        "# displaying stopwords\n",
        "print(stop_words)"
      ],
      "metadata": {
        "id": "T2LSJh154s8W"
      },
      "execution_count": null,
      "outputs": []
    },
    {
      "cell_type": "code",
      "source": [
        "def stopwords(text):\n",
        "    text = [word.lower() for word in text.split() if word.lower() not in stop_words]\n",
        "    return \" \".join(text)"
      ],
      "metadata": {
        "id": "EgLJGffy4vm0"
      },
      "execution_count": null,
      "outputs": []
    },
    {
      "cell_type": "code",
      "source": [
        "df['final_text']=df['final_text'].apply(stopwords)"
      ],
      "metadata": {
        "id": "X_KAT_slwatr"
      },
      "execution_count": null,
      "outputs": []
    },
    {
      "cell_type": "code",
      "source": [
        "df['final_text'][0]"
      ],
      "metadata": {
        "id": "NZmw-x4Ewhjg"
      },
      "execution_count": null,
      "outputs": []
    },
    {
      "cell_type": "markdown",
      "source": [
        "#### 4. Lemmatization"
      ],
      "metadata": {
        "id": "c49ITxTc407N"
      }
    },
    {
      "cell_type": "code",
      "source": [
        "# Lemmatization\n",
        "import nltk\n",
        "nltk.download('omw-1.4')\n",
        "\n",
        "from nltk.stem import WordNetLemmatizer\n",
        "nltk.download('wordnet')"
      ],
      "metadata": {
        "id": "foqY80Qu48N2"
      },
      "execution_count": null,
      "outputs": []
    },
    {
      "cell_type": "code",
      "source": [
        "def lemmatize_verbs(words):\n",
        "    lemmatizer = WordNetLemmatizer()\n",
        "    lemmas = []\n",
        "    for word in words:\n",
        "        lemma = lemmatizer.lemmatize(word, pos='v')\n",
        "        lemmas.append(lemma)\n",
        "    return lemmas"
      ],
      "metadata": {
        "id": "WSMpMHJMwugT"
      },
      "execution_count": null,
      "outputs": []
    },
    {
      "cell_type": "code",
      "source": [
        "df['final_text'] = lemmatize_verbs(df['final_text'])"
      ],
      "metadata": {
        "id": "G_Fgwr2rwzxx"
      },
      "execution_count": null,
      "outputs": []
    },
    {
      "cell_type": "markdown",
      "source": [
        "#### 5. Tokenization"
      ],
      "metadata": {
        "id": "OeJFEK0N496M"
      }
    },
    {
      "cell_type": "code",
      "source": [
        "# Tokenization\n",
        "from nltk.tokenize import TweetTokenizer\n",
        "tokenizer = TweetTokenizer()\n",
        "\n",
        "df['final_text'] = df['final_text'].apply(lambda x: tokenizer.tokenize(x))"
      ],
      "metadata": {
        "id": "ijx1rUOS5CUU"
      },
      "execution_count": null,
      "outputs": []
    },
    {
      "cell_type": "markdown",
      "source": [
        "#### 6. Removing non-ASCII characters"
      ],
      "metadata": {
        "id": "k5UmGsbsOxih"
      }
    },
    {
      "cell_type": "code",
      "source": [
        "# POS Taging\n",
        "def remove_non_ascii(words):\n",
        "    new_words = []\n",
        "    for word in words:\n",
        "      new_word = unicodedata.normalize('NFKD', word).encode('ascii', 'ignore').decode('utf-8', 'ignore')\n",
        "      new_words.append(new_word)\n",
        "    return new_words"
      ],
      "metadata": {
        "id": "btT3ZJBAO6Ik"
      },
      "execution_count": null,
      "outputs": []
    },
    {
      "cell_type": "code",
      "source": [
        "df['final_text']= df['final_text'].apply(remove_non_ascii)"
      ],
      "metadata": {
        "id": "QBQY3wpaxJl3"
      },
      "execution_count": null,
      "outputs": []
    },
    {
      "cell_type": "code",
      "source": [
        "df['final_text'][0]"
      ],
      "metadata": {
        "id": "6xjef0eDxJTn"
      },
      "execution_count": null,
      "outputs": []
    },
    {
      "cell_type": "markdown",
      "source": [
        "#### 7. Text Vectorization"
      ],
      "metadata": {
        "id": "T0VqWOYE6DLQ"
      }
    },
    {
      "cell_type": "code",
      "source": [
        "# Vectorizing Text\n",
        "final_data = df['final_text']\n",
        "final_data"
      ],
      "metadata": {
        "id": "yBRtdhth6JDE"
      },
      "execution_count": null,
      "outputs": []
    },
    {
      "cell_type": "code",
      "source": [
        "def identity_tokenizer(text):\n",
        "    return text\n",
        "\n",
        "tfidf = TfidfVectorizer(tokenizer=identity_tokenizer, stop_words='english', lowercase=False,max_features = 10000)\n",
        "tfidf_matrix = tfidf.fit_transform(final_data)\n",
        "\n",
        "array = tfidf_matrix.toarray()"
      ],
      "metadata": {
        "id": "yA911i02zEt6"
      },
      "execution_count": null,
      "outputs": []
    },
    {
      "cell_type": "code",
      "source": [
        "print(array)\n",
        "print(f'shape of the vector : {array.shape}')\n",
        "print(f'datatype : {type(array)}')"
      ],
      "metadata": {
        "id": "Y1aGO2B8zEjq"
      },
      "execution_count": null,
      "outputs": []
    },
    {
      "cell_type": "markdown",
      "source": [
        "##### Which text vectorization technique have you used and why?"
      ],
      "metadata": {
        "id": "qBMux9mC6MCf"
      }
    },
    {
      "cell_type": "markdown",
      "source": [
        "\n",
        "\n",
        "*   We will vectorized the corpus using TFIDF vectorizer, where TFIDF stands for Term Frequency Inverse Document Frequency.\n",
        "\n",
        " TFIDF=TF*IDF\n",
        "*   Text Vectorization is the process of converting text into numerical representation\n",
        "\n"
      ],
      "metadata": {
        "id": "su2EnbCh6UKQ"
      }
    },
    {
      "cell_type": "markdown",
      "source": [
        "### 5. Dimesionality Reduction"
      ],
      "metadata": {
        "id": "1UUpS68QDMuG"
      }
    },
    {
      "cell_type": "markdown",
      "source": [
        "##### Do you think that dimensionality reduction is needed? Explain Why?"
      ],
      "metadata": {
        "id": "kexQrXU-DjzY"
      }
    },
    {
      "cell_type": "markdown",
      "source": [
        "Answer Here."
      ],
      "metadata": {
        "id": "GGRlBsSGDtTQ"
      }
    },
    {
      "cell_type": "code",
      "source": [
        "#DImensionality Reduction (If needed)"
      ],
      "metadata": {
        "id": "7vPLdmxd3qLR"
      },
      "execution_count": null,
      "outputs": []
    },
    {
      "cell_type": "markdown",
      "source": [
        "##### Which dimensionality reduction technique have you used and why? (If dimensionality reduction done on dataset.)"
      ],
      "metadata": {
        "id": "T5CmagL3EC8N"
      }
    },
    {
      "cell_type": "markdown",
      "source": [
        "Answer Here."
      ],
      "metadata": {
        "id": "ZKr75IDuEM7t"
      }
    },
    {
      "cell_type": "markdown",
      "source": [
        "### 6. Data Splitting"
      ],
      "metadata": {
        "id": "BhH2vgX9EjGr"
      }
    },
    {
      "cell_type": "code",
      "source": [
        "# Split your data to train and test. Choose Splitting ratio wisely."
      ],
      "metadata": {
        "id": "0CTyd2UwEyNM"
      },
      "execution_count": null,
      "outputs": []
    },
    {
      "cell_type": "markdown",
      "source": [
        "##### What data splitting ratio have you used and why?"
      ],
      "metadata": {
        "id": "qjKvONjwE8ra"
      }
    },
    {
      "cell_type": "markdown",
      "source": [
        "Answer Here."
      ],
      "metadata": {
        "id": "Y2lJ8cobFDb_"
      }
    },
    {
      "cell_type": "markdown",
      "source": [
        "## ***6. ML Model Implementation***"
      ],
      "metadata": {
        "id": "VfCC591jGiD4"
      }
    },
    {
      "cell_type": "markdown",
      "source": [
        "### ML Model - 1"
      ],
      "metadata": {
        "id": "OB4l2ZhMeS1U"
      }
    },
    {
      "cell_type": "code",
      "source": [
        "# ML Model - 1 Implementation\n",
        "\n",
        "# Fit the Algorithm\n",
        "\n",
        "# Predict on the model"
      ],
      "metadata": {
        "id": "7ebyywQieS1U"
      },
      "execution_count": null,
      "outputs": []
    },
    {
      "cell_type": "markdown",
      "source": [
        "#### 1. Explain the ML Model used and it's performance using Evaluation metric Score Chart."
      ],
      "metadata": {
        "id": "ArJBuiUVfxKd"
      }
    },
    {
      "cell_type": "code",
      "source": [
        "# Visualizing evaluation Metric Score chart"
      ],
      "metadata": {
        "id": "rqD5ZohzfxKe"
      },
      "execution_count": null,
      "outputs": []
    },
    {
      "cell_type": "markdown",
      "source": [
        "#### 2. Cross- Validation & Hyperparameter Tuning"
      ],
      "metadata": {
        "id": "4qY1EAkEfxKe"
      }
    },
    {
      "cell_type": "code",
      "source": [
        "# ML Model - 1 Implementation with hyperparameter optimization techniques (i.e., GridSearch CV, RandomSearch CV, Bayesian Optimization etc.)\n",
        "\n",
        "# Fit the Algorithm\n",
        "\n",
        "# Predict on the model"
      ],
      "metadata": {
        "id": "Dy61ujd6fxKe"
      },
      "execution_count": null,
      "outputs": []
    },
    {
      "cell_type": "markdown",
      "source": [
        "##### Which hyperparameter optimization technique have you used and why?"
      ],
      "metadata": {
        "id": "PiV4Ypx8fxKe"
      }
    },
    {
      "cell_type": "markdown",
      "source": [
        "Answer Here."
      ],
      "metadata": {
        "id": "negyGRa7fxKf"
      }
    },
    {
      "cell_type": "markdown",
      "source": [
        "##### Have you seen any improvement? Note down the improvement with updates Evaluation metric Score Chart."
      ],
      "metadata": {
        "id": "TfvqoZmBfxKf"
      }
    },
    {
      "cell_type": "markdown",
      "source": [
        "Answer Here."
      ],
      "metadata": {
        "id": "OaLui8CcfxKf"
      }
    },
    {
      "cell_type": "markdown",
      "source": [
        "### ML Model - 2"
      ],
      "metadata": {
        "id": "dJ2tPlVmpsJ0"
      }
    },
    {
      "cell_type": "markdown",
      "source": [
        "#### 1. Explain the ML Model used and it's performance using Evaluation metric Score Chart."
      ],
      "metadata": {
        "id": "JWYfwnehpsJ1"
      }
    },
    {
      "cell_type": "code",
      "source": [
        "# Visualizing evaluation Metric Score chart"
      ],
      "metadata": {
        "id": "yEl-hgQWpsJ1"
      },
      "execution_count": null,
      "outputs": []
    },
    {
      "cell_type": "markdown",
      "source": [
        "#### 2. Cross- Validation & Hyperparameter Tuning"
      ],
      "metadata": {
        "id": "-jK_YjpMpsJ2"
      }
    },
    {
      "cell_type": "code",
      "source": [
        "# ML Model - 1 Implementation with hyperparameter optimization techniques (i.e., GridSearch CV, RandomSearch CV, Bayesian Optimization etc.)\n",
        "\n",
        "# Fit the Algorithm\n",
        "\n",
        "# Predict on the model"
      ],
      "metadata": {
        "id": "Dn0EOfS6psJ2"
      },
      "execution_count": null,
      "outputs": []
    },
    {
      "cell_type": "markdown",
      "source": [
        "##### Which hyperparameter optimization technique have you used and why?"
      ],
      "metadata": {
        "id": "HAih1iBOpsJ2"
      }
    },
    {
      "cell_type": "markdown",
      "source": [
        "Answer Here."
      ],
      "metadata": {
        "id": "9kBgjYcdpsJ2"
      }
    },
    {
      "cell_type": "markdown",
      "source": [
        "##### Have you seen any improvement? Note down the improvement with updates Evaluation metric Score Chart."
      ],
      "metadata": {
        "id": "zVGeBEFhpsJ2"
      }
    },
    {
      "cell_type": "markdown",
      "source": [
        "Answer Here."
      ],
      "metadata": {
        "id": "74yRdG6UpsJ3"
      }
    },
    {
      "cell_type": "markdown",
      "source": [
        "#### 3. Explain each evaluation metric's indication towards business and the business impact pf the ML model used."
      ],
      "metadata": {
        "id": "bmKjuQ-FpsJ3"
      }
    },
    {
      "cell_type": "markdown",
      "source": [
        "Answer Here."
      ],
      "metadata": {
        "id": "BDKtOrBQpsJ3"
      }
    },
    {
      "cell_type": "markdown",
      "source": [
        "### ML Model - 3"
      ],
      "metadata": {
        "id": "Fze-IPXLpx6K"
      }
    },
    {
      "cell_type": "code",
      "source": [
        "# ML Model - 3 Implementation\n",
        "\n",
        "# Fit the Algorithm\n",
        "\n",
        "# Predict on the model"
      ],
      "metadata": {
        "id": "FFrSXAtrpx6M"
      },
      "execution_count": null,
      "outputs": []
    },
    {
      "cell_type": "markdown",
      "source": [
        "#### 1. Explain the ML Model used and it's performance using Evaluation metric Score Chart."
      ],
      "metadata": {
        "id": "7AN1z2sKpx6M"
      }
    },
    {
      "cell_type": "code",
      "source": [
        "# Visualizing evaluation Metric Score chart"
      ],
      "metadata": {
        "id": "xIY4lxxGpx6M"
      },
      "execution_count": null,
      "outputs": []
    },
    {
      "cell_type": "markdown",
      "source": [
        "#### 2. Cross- Validation & Hyperparameter Tuning"
      ],
      "metadata": {
        "id": "9PIHJqyupx6M"
      }
    },
    {
      "cell_type": "code",
      "source": [
        "# ML Model - 3 Implementation with hyperparameter optimization techniques (i.e., GridSearch CV, RandomSearch CV, Bayesian Optimization etc.)\n",
        "\n",
        "# Fit the Algorithm\n",
        "\n",
        "# Predict on the model"
      ],
      "metadata": {
        "id": "eSVXuaSKpx6M"
      },
      "execution_count": null,
      "outputs": []
    },
    {
      "cell_type": "markdown",
      "source": [
        "##### Which hyperparameter optimization technique have you used and why?"
      ],
      "metadata": {
        "id": "_-qAgymDpx6N"
      }
    },
    {
      "cell_type": "markdown",
      "source": [
        "Answer Here."
      ],
      "metadata": {
        "id": "lQMffxkwpx6N"
      }
    },
    {
      "cell_type": "markdown",
      "source": [
        "##### Have you seen any improvement? Note down the improvement with updates Evaluation metric Score Chart."
      ],
      "metadata": {
        "id": "Z-hykwinpx6N"
      }
    },
    {
      "cell_type": "markdown",
      "source": [
        "Answer Here."
      ],
      "metadata": {
        "id": "MzVzZC6opx6N"
      }
    },
    {
      "cell_type": "markdown",
      "source": [
        "### 1. Which Evaluation metrics did you consider for a positive business impact and why?"
      ],
      "metadata": {
        "id": "h_CCil-SKHpo"
      }
    },
    {
      "cell_type": "markdown",
      "source": [
        "Answer Here."
      ],
      "metadata": {
        "id": "jHVz9hHDKFms"
      }
    },
    {
      "cell_type": "markdown",
      "source": [
        "### 2. Which ML model did you choose from the above created models as your final prediction model and why?"
      ],
      "metadata": {
        "id": "cBFFvTBNJzUa"
      }
    },
    {
      "cell_type": "markdown",
      "source": [
        "Answer Here."
      ],
      "metadata": {
        "id": "6ksF5Q1LKTVm"
      }
    },
    {
      "cell_type": "markdown",
      "source": [
        "### 3. Explain the model which you have used and the feature importance using any model explainability tool?"
      ],
      "metadata": {
        "id": "HvGl1hHyA_VK"
      }
    },
    {
      "cell_type": "markdown",
      "source": [
        "Answer Here."
      ],
      "metadata": {
        "id": "YnvVTiIxBL-C"
      }
    },
    {
      "cell_type": "markdown",
      "source": [
        "# **Conclusion**"
      ],
      "metadata": {
        "id": "gCX9965dhzqZ"
      }
    },
    {
      "cell_type": "markdown",
      "source": [
        "Write the conclusion here."
      ],
      "metadata": {
        "id": "Fjb1IsQkh3yE"
      }
    },
    {
      "cell_type": "markdown",
      "source": [
        "### ***Hurrah! You have successfully completed your Machine Learning Capstone Project !!!***"
      ],
      "metadata": {
        "id": "gIfDvo9L0UH2"
      }
    }
  ]
}